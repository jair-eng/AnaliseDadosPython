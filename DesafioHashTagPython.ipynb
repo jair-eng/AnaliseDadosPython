{
 "cells": [
  {
   "cell_type": "code",
   "execution_count": 284,
   "id": "2548c475",
   "metadata": {
    "scrolled": false
   },
   "outputs": [
    {
     "name": "stdout",
     "output_type": "stream",
     "text": [
      "Requirement already satisfied: pyautogui in c:\\users\\jair\\anaconda3\\lib\\site-packages (0.9.54)\n",
      "Requirement already satisfied: pymsgbox in c:\\users\\jair\\anaconda3\\lib\\site-packages (from pyautogui) (1.0.9)\n",
      "Requirement already satisfied: pyscreeze>=0.1.21 in c:\\users\\jair\\anaconda3\\lib\\site-packages (from pyautogui) (1.0.1)\n",
      "Requirement already satisfied: mouseinfo in c:\\users\\jair\\anaconda3\\lib\\site-packages (from pyautogui) (0.1.3)\n",
      "Requirement already satisfied: pytweening>=1.0.4 in c:\\users\\jair\\anaconda3\\lib\\site-packages (from pyautogui) (1.2.0)\n",
      "Requirement already satisfied: pygetwindow>=0.0.5 in c:\\users\\jair\\anaconda3\\lib\\site-packages (from pyautogui) (0.0.9)\n",
      "Requirement already satisfied: pyrect in c:\\users\\jair\\anaconda3\\lib\\site-packages (from pygetwindow>=0.0.5->pyautogui) (0.2.0)\n",
      "Requirement already satisfied: Pillow>=9.2.0 in c:\\users\\jair\\anaconda3\\lib\\site-packages (from pyscreeze>=0.1.21->pyautogui) (9.4.0)\n",
      "Requirement already satisfied: pyperclip in c:\\users\\jair\\anaconda3\\lib\\site-packages (from mouseinfo->pyautogui) (1.9.0)\n",
      "Note: you may need to restart the kernel to use updated packages.\n"
     ]
    }
   ],
   "source": [
    "pip install pyautogui"
   ]
  },
  {
   "cell_type": "code",
   "execution_count": 933,
   "id": "17b1a371",
   "metadata": {},
   "outputs": [],
   "source": [
    "import pyautogui"
   ]
  },
  {
   "cell_type": "code",
   "execution_count": 934,
   "id": "91ee0b17",
   "metadata": {},
   "outputs": [],
   "source": [
    "import pandas as pd"
   ]
  },
  {
   "cell_type": "code",
   "execution_count": 935,
   "id": "ff6f8695",
   "metadata": {},
   "outputs": [],
   "source": [
    "import time"
   ]
  },
  {
   "cell_type": "code",
   "execution_count": 936,
   "id": "6488ff54",
   "metadata": {},
   "outputs": [],
   "source": [
    "# Aguardar um segundo para executar "
   ]
  },
  {
   "cell_type": "code",
   "execution_count": 937,
   "id": "a3d82c7c",
   "metadata": {},
   "outputs": [],
   "source": [
    "pyautogui.PAUSE = 0.5"
   ]
  },
  {
   "cell_type": "code",
   "execution_count": 938,
   "id": "cfd6c57d",
   "metadata": {},
   "outputs": [],
   "source": [
    "# Abrir o Sistema da Empresa"
   ]
  },
  {
   "cell_type": "code",
   "execution_count": 939,
   "id": "60d3458a",
   "metadata": {},
   "outputs": [],
   "source": [
    "pyautogui.press(\"win\")"
   ]
  },
  {
   "cell_type": "code",
   "execution_count": 940,
   "id": "65268542",
   "metadata": {},
   "outputs": [],
   "source": [
    "pyautogui.write(\"chrome\")"
   ]
  },
  {
   "cell_type": "code",
   "execution_count": 941,
   "id": "4e9fab7b",
   "metadata": {},
   "outputs": [],
   "source": [
    "pyautogui.press(\"enter\")"
   ]
  },
  {
   "cell_type": "code",
   "execution_count": 942,
   "id": "c1fb4cbd",
   "metadata": {},
   "outputs": [],
   "source": [
    "pyautogui.write(\"https://dlp.hashtagtreinamentos.com/python/intensivao/login\")"
   ]
  },
  {
   "cell_type": "code",
   "execution_count": 943,
   "id": "9cc9e673",
   "metadata": {},
   "outputs": [],
   "source": [
    "pyautogui.press(\"enter\")"
   ]
  },
  {
   "cell_type": "code",
   "execution_count": 944,
   "id": "ddade1c0",
   "metadata": {},
   "outputs": [],
   "source": [
    "\n",
    "# pedir ao sistema para aguardar 3 segundos ao carregar a página web"
   ]
  },
  {
   "cell_type": "code",
   "execution_count": 945,
   "id": "c0bc0c64",
   "metadata": {},
   "outputs": [],
   "source": [
    "time.sleep(2)"
   ]
  },
  {
   "cell_type": "code",
   "execution_count": 946,
   "id": "1359883c",
   "metadata": {},
   "outputs": [],
   "source": [
    "# Fazer o login no sistema"
   ]
  },
  {
   "cell_type": "code",
   "execution_count": 947,
   "id": "32f395d6",
   "metadata": {},
   "outputs": [],
   "source": [
    "pyautogui.click(x=477, y=402)"
   ]
  },
  {
   "cell_type": "code",
   "execution_count": 948,
   "id": "842c43e5",
   "metadata": {},
   "outputs": [],
   "source": [
    "pyautogui.write(\"jaircbn@gmail.com\")"
   ]
  },
  {
   "cell_type": "code",
   "execution_count": 949,
   "id": "82d70f62",
   "metadata": {},
   "outputs": [],
   "source": [
    "pyautogui.press(\"tab\")"
   ]
  },
  {
   "cell_type": "code",
   "execution_count": 950,
   "id": "c66e9d5e",
   "metadata": {},
   "outputs": [],
   "source": [
    "pyautogui.write(\"123456\")"
   ]
  },
  {
   "cell_type": "code",
   "execution_count": 951,
   "id": "6d47e87c",
   "metadata": {},
   "outputs": [],
   "source": [
    "pyautogui.press(\"tab\")"
   ]
  },
  {
   "cell_type": "code",
   "execution_count": 952,
   "id": "e56ace9b",
   "metadata": {},
   "outputs": [],
   "source": [
    "pyautogui.press(\"enter\")"
   ]
  },
  {
   "cell_type": "code",
   "execution_count": 953,
   "id": "9564cfe0",
   "metadata": {},
   "outputs": [],
   "source": [
    "# importar base de dados"
   ]
  },
  {
   "cell_type": "code",
   "execution_count": 954,
   "id": "46bf5a12",
   "metadata": {},
   "outputs": [],
   "source": [
    "tabela = pd.read_csv(\"produtos.csv\")"
   ]
  },
  {
   "cell_type": "code",
   "execution_count": 955,
   "id": "3611c9ea",
   "metadata": {
    "scrolled": false
   },
   "outputs": [
    {
     "name": "stdout",
     "output_type": "stream",
     "text": [
      "         codigo       marca        tipo  categoria  preco_unitario  custo  \\\n",
      "0    MOLO000251    Logitech       Mouse          1           25.95    6.5   \n",
      "1    MOLO000192    Logitech       Mouse          2           19.95    5.0   \n",
      "2    CAHA000251     Hashtag      Camisa          1           25.00   11.0   \n",
      "3    CAHA000252     Hashtag      Camisa          2           25.00   11.0   \n",
      "4    MOMU000111  Multilaser       Mouse          1           11.99    3.4   \n",
      "..          ...         ...         ...        ...             ...    ...   \n",
      "288  ACAP000192       Apple  Acessorios          2           19.00    3.8   \n",
      "289  ACSA0009.3     Samsung  Acessorios          3            9.55    2.1   \n",
      "290  CEMO000271    Motorola     Celular          1          279.00   72.5   \n",
      "291  FOMO000152    Motorola        Fone          2          150.00   33.0   \n",
      "292  CEMO000223    Motorola     Celular          3          229.00   55.0   \n",
      "\n",
      "                  obs  \n",
      "0                 NaN  \n",
      "1                 NaN  \n",
      "2                 NaN  \n",
      "3    Conferir estoque  \n",
      "4                 NaN  \n",
      "..                ...  \n",
      "288               NaN  \n",
      "289               NaN  \n",
      "290               NaN  \n",
      "291               NaN  \n",
      "292               NaN  \n",
      "\n",
      "[293 rows x 7 columns]\n"
     ]
    }
   ],
   "source": [
    "print(tabela)\n",
    "\n",
    "\n",
    "time.sleep(2)\n"
   ]
  },
  {
   "cell_type": "code",
   "execution_count": 956,
   "id": "fd8ae56d",
   "metadata": {},
   "outputs": [],
   "source": [
    "# cadastrar um produto"
   ]
  },
  {
   "cell_type": "code",
   "execution_count": 957,
   "id": "1ff411cc",
   "metadata": {},
   "outputs": [
    {
     "ename": "KeyboardInterrupt",
     "evalue": "",
     "output_type": "error",
     "traceback": [
      "\u001b[1;31m---------------------------------------------------------------------------\u001b[0m",
      "\u001b[1;31mKeyboardInterrupt\u001b[0m                         Traceback (most recent call last)",
      "Cell \u001b[1;32mIn[957], line 6\u001b[0m\n\u001b[0;32m      3\u001b[0m time\u001b[38;5;241m.\u001b[39msleep(\u001b[38;5;241m0.5\u001b[39m)\n\u001b[0;32m      5\u001b[0m codigo \u001b[38;5;241m=\u001b[39m tabela\u001b[38;5;241m.\u001b[39mloc[linha, \u001b[38;5;124m\"\u001b[39m\u001b[38;5;124mcodigo\u001b[39m\u001b[38;5;124m\"\u001b[39m]\n\u001b[1;32m----> 6\u001b[0m \u001b[43mpyautogui\u001b[49m\u001b[38;5;241;43m.\u001b[39;49m\u001b[43mwrite\u001b[49m\u001b[43m(\u001b[49m\u001b[43mcodigo\u001b[49m\u001b[43m)\u001b[49m\n\u001b[0;32m      7\u001b[0m time\u001b[38;5;241m.\u001b[39msleep(\u001b[38;5;241m0.2\u001b[39m)\n\u001b[0;32m      8\u001b[0m pyautogui\u001b[38;5;241m.\u001b[39mpress(\u001b[38;5;124m\"\u001b[39m\u001b[38;5;124mtab\u001b[39m\u001b[38;5;124m\"\u001b[39m)\n",
      "File \u001b[1;32m~\\anaconda3\\lib\\site-packages\\pyautogui\\__init__.py:595\u001b[0m, in \u001b[0;36m_genericPyAutoGUIChecks.<locals>.wrapper\u001b[1;34m(*args, **kwargs)\u001b[0m\n\u001b[0;32m    593\u001b[0m failSafeCheck()\n\u001b[0;32m    594\u001b[0m returnVal \u001b[38;5;241m=\u001b[39m wrappedFunction(\u001b[38;5;241m*\u001b[39margs, \u001b[38;5;241m*\u001b[39m\u001b[38;5;241m*\u001b[39mkwargs)\n\u001b[1;32m--> 595\u001b[0m \u001b[43m_handlePause\u001b[49m\u001b[43m(\u001b[49m\u001b[43mkwargs\u001b[49m\u001b[38;5;241;43m.\u001b[39;49m\u001b[43mget\u001b[49m\u001b[43m(\u001b[49m\u001b[38;5;124;43m\"\u001b[39;49m\u001b[38;5;124;43m_pause\u001b[39;49m\u001b[38;5;124;43m\"\u001b[39;49m\u001b[43m,\u001b[49m\u001b[43m \u001b[49m\u001b[38;5;28;43;01mTrue\u001b[39;49;00m\u001b[43m)\u001b[49m\u001b[43m)\u001b[49m\n\u001b[0;32m    596\u001b[0m \u001b[38;5;28;01mreturn\u001b[39;00m returnVal\n",
      "File \u001b[1;32m~\\anaconda3\\lib\\site-packages\\pyautogui\\__init__.py:639\u001b[0m, in \u001b[0;36m_handlePause\u001b[1;34m(_pause)\u001b[0m\n\u001b[0;32m    637\u001b[0m \u001b[38;5;28;01mif\u001b[39;00m _pause:\n\u001b[0;32m    638\u001b[0m     \u001b[38;5;28;01massert\u001b[39;00m \u001b[38;5;28misinstance\u001b[39m(PAUSE, \u001b[38;5;28mint\u001b[39m) \u001b[38;5;129;01mor\u001b[39;00m \u001b[38;5;28misinstance\u001b[39m(PAUSE, \u001b[38;5;28mfloat\u001b[39m)\n\u001b[1;32m--> 639\u001b[0m     \u001b[43mtime\u001b[49m\u001b[38;5;241;43m.\u001b[39;49m\u001b[43msleep\u001b[49m\u001b[43m(\u001b[49m\u001b[43mPAUSE\u001b[49m\u001b[43m)\u001b[49m\n",
      "\u001b[1;31mKeyboardInterrupt\u001b[0m: "
     ]
    }
   ],
   "source": [
    "for linha in tabela.index:\n",
    "    pyautogui.click(x=508, y=291) # clica no primeiro campo\n",
    "    time.sleep(0.5)\n",
    "        \n",
    "    codigo = tabela.loc[linha, \"codigo\"]\n",
    "    pyautogui.write(codigo)\n",
    "    time.sleep(0.2)\n",
    "    pyautogui.press(\"tab\")\n",
    "    \n",
    "    marca = tabela.loc[linha, \"marca\"]\n",
    "    pyautogui.write(marca)\n",
    "    time.sleep(0.2)\n",
    "    pyautogui.press(\"tab\")\n",
    "    \n",
    "    tipo = tabela.loc[linha, \"tipo\"]\n",
    "    pyautogui.write(tipo)\n",
    "    time.sleep(0.2)\n",
    "    pyautogui.press(\"tab\")\n",
    "    \n",
    "    categoria = tabela.loc[linha, \"categoria\"]\n",
    "    pyautogui.write(str(categoria))\n",
    "    time.sleep(0.2)\n",
    "    pyautogui.press(\"tab\")\n",
    "    \n",
    "    preco_unitario = tabela.loc[linha, \"preco_unitario\"]\n",
    "    pyautogui.write(str(preco_unitario))\n",
    "    time.sleep(0.2)\n",
    "    pyautogui.press(\"tab\")\n",
    "    \n",
    "    custo = tabela.loc[linha, \"custo\"]\n",
    "    pyautogui.write(str(custo))\n",
    "    time.sleep(0.2)\n",
    "    pyautogui.press(\"tab\")\n",
    "    \n",
    "    obs = str(tabela.loc[linha, \"obs\"])\n",
    "    if not pd.isna(obs):\n",
    "CAHA000252\n",
    "        pyautogui.write(obs)\n",
    "    time.sleep(0.2)\n",
    "        \n",
    "    pyautogui.press(\"tab\")\n",
    "    pyautogui.press(\"enter\")\n",
    "    pyautogui.scroll(5000)\n",
    "   \n",
    "    \n",
    "\n",
    "    \n",
    "    "
   ]
  },
  {
   "cell_type": "markdown",
   "id": "6c259f58",
   "metadata": {},
   "source": []
  },
  {
   "cell_type": "code",
   "execution_count": null,
   "id": "460d3350",
   "metadata": {},
   "outputs": [],
   "source": [
    "\n"
   ]
  }
 ],
 "metadata": {
  "kernelspec": {
   "display_name": "Python 3 (ipykernel)",
   "language": "python",
   "name": "python3"
  },
  "language_info": {
   "codemirror_mode": {
    "name": "ipython",
    "version": 3
   },
   "file_extension": ".py",
   "mimetype": "text/x-python",
   "name": "python",
   "nbconvert_exporter": "python",
   "pygments_lexer": "ipython3",
   "version": "3.10.9"
  }
 },
 "nbformat": 4,
 "nbformat_minor": 5
}
